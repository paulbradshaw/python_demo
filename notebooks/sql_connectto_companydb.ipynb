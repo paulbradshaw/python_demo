{
 "cells": [
  {
   "cell_type": "code",
   "execution_count": 2,
   "metadata": {
    "collapsed": false
   },
   "outputs": [
    {
     "name": "stdout",
     "output_type": "stream",
     "text": [
      "hello. This is a Jupyter notebook.\n"
     ]
    }
   ],
   "source": [
    "print 'hello. This is a Jupyter notebook.'"
   ]
  },
  {
   "cell_type": "code",
   "execution_count": 3,
   "metadata": {
    "collapsed": false
   },
   "outputs": [
    {
     "name": "stdout",
     "output_type": "stream",
     "text": [
      "Notebooks are a way of sharing your code. But as well as allowing people to see your code, the code can be run and the output shown in the notebook itself.\n"
     ]
    }
   ],
   "source": [
    "print 'Notebooks are a way of sharing your code. But as well as allowing people to see your code, the code can be run and the output shown in the notebook itself.'"
   ]
  },
  {
   "cell_type": "code",
   "execution_count": 4,
   "metadata": {
    "collapsed": false
   },
   "outputs": [
    {
     "name": "stdout",
     "output_type": "stream",
     "text": [
      "The code is showing next to each box that shows \"In [] \n",
      "The output of the code is shown under each box\n",
      "You run the code by clicking the play button at the top\n"
     ]
    }
   ],
   "source": [
    "print 'The code is showing next to each box that shows \"In [] '\n",
    "print 'The output of the code is shown under each box'\n",
    "print 'You run the code by clicking the play button at the top'"
   ]
  },
  {
   "cell_type": "code",
   "execution_count": 5,
   "metadata": {
    "collapsed": false
   },
   "outputs": [
    {
     "name": "stdout",
     "output_type": "stream",
     "text": [
      "One way to use a Jupyter notebook is to install Anaconda\n"
     ]
    }
   ],
   "source": [
    "print 'One way to use a Jupyter notebook is to install Anaconda'"
   ]
  },
  {
   "cell_type": "markdown",
   "metadata": {},
   "source": [
    "# Now for the markdown\n",
    "\n",
    "You can also use Markdown"
   ]
  },
  {
   "cell_type": "code",
   "execution_count": 6,
   "metadata": {
    "collapsed": false
   },
   "outputs": [
    {
     "name": "stdout",
     "output_type": "stream",
     "text": [
      "1\n",
      "4\n",
      "6\n",
      "8\n"
     ]
    }
   ],
   "source": [
    "mylist = [1, 4, 6, 8]\n",
    "for i in mylist:\n",
    "    print i"
   ]
  },
  {
   "cell_type": "code",
   "execution_count": 7,
   "metadata": {
    "collapsed": true
   },
   "outputs": [],
   "source": [
    "import sqlite3\n",
    "connection = sqlite3.connect(\"company.db\")"
   ]
  },
  {
   "cell_type": "code",
   "execution_count": 9,
   "metadata": {
    "collapsed": false
   },
   "outputs": [],
   "source": [
    "sql_command = \"\"\"\n",
    "CREATE TABLE employee ( \n",
    "staff_number INTEGER PRIMARY KEY, \n",
    "fname VARCHAR(20), \n",
    "lname VARCHAR(30), \n",
    "gender CHAR(1), \n",
    "joining DATE,\n",
    "birth_date DATE);\"\"\""
   ]
  },
  {
   "cell_type": "code",
   "execution_count": null,
   "metadata": {
    "collapsed": true
   },
   "outputs": [],
   "source": [
    "#from http://www.python-course.eu/sql_python.php\n"
   ]
  }
 ],
 "metadata": {
  "anaconda-cloud": {},
  "kernelspec": {
   "display_name": "Python [Root]",
   "language": "python",
   "name": "Python [Root]"
  },
  "language_info": {
   "codemirror_mode": {
    "name": "ipython",
    "version": 2
   },
   "file_extension": ".py",
   "mimetype": "text/x-python",
   "name": "python",
   "nbconvert_exporter": "python",
   "pygments_lexer": "ipython2",
   "version": "2.7.12"
  }
 },
 "nbformat": 4,
 "nbformat_minor": 0
}
