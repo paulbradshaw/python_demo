{
 "cells": [
  {
   "cell_type": "markdown",
   "metadata": {},
   "source": [
    "# Gathering data on festival artists using the Spotify API\n",
    "\n",
    "This notebook outlines the process for gathering data on 113 festival artists using Spotify's API. Specifically, we're using 3 parts of the API (called *endpoints*): details on the artist; details on their 10 most popular tracks; and details on 10 related artists.\n",
    "\n",
    "First, we import 3 libraries:"
   ]
  },
  {
   "cell_type": "code",
   "execution_count": 1,
   "metadata": {
    "collapsed": true
   },
   "outputs": [],
   "source": [
    "import urllib, json\n",
    "import scraperwiki"
   ]
  },
  {
   "cell_type": "markdown",
   "metadata": {},
   "source": [
    "The `urllib` and `json` libraries are for handling URLs and JSON files respectively. `Scraperwiki` is used for storing the data we get.\n",
    "\n",
    "Next, we create some basic variables: the base URL for the Spotify API, our token (like a password) which the API needs to provide a response, and the list of ID codes we want information on.\n",
    "\n",
    "We also create an empty dictionary object called `record`\n",
    "\n",
    "Finally, we use the `len` function to measure how many items there are in our list of ID codes."
   ]
  },
  {
   "cell_type": "code",
   "execution_count": 2,
   "metadata": {
    "collapsed": false
   },
   "outputs": [
    {
     "name": "stdout",
     "output_type": "stream",
     "text": [
      "there are  113  artists\n"
     ]
    }
   ],
   "source": [
    "baseurl = 'https://api.spotify.com/v1/artists/'\n",
    "token = 'PASTE YOUR TOKEN HERE'\n",
    "artists = ['7oPftvlwr6VrsViSDV7fJY','7mnBLXK823vNxN3UWB7Gfz','7MhMgCo0Bl0Kukl93PZbYS','7lzordPuZEXxwt9aoVZYmG','7Ln80lUS6He07XvHI8qqHH','7jy3rLJdDQY21OgRLCZ9sD','7guDJrEfX3qb6FEbdPA5qi','7FBcuc1gsnv6Y1nwFtNRCb','7dGJo4pcD2V6oG8kP0tJRR','7CajNmpbOovFoOoasH2HaY','7bu3H8JO7d0UbMoVzbo70s','6zvul52xwTWzilBZl6BUbT','6XyY86QOPPrYVGvF9ch6wz','6vWDO969PvNqNYHIOW5v0m','6v8FB84lnmJs434UJf2Mrm','6UUrUCIZtQeOf8tC0WuzRy','6S0GHTqz5sxK5f9HtLXn9q','6FBDaR13swtiWwGhX1WQsP','67ea9eGLXYMsO2eYQRui3w','5T4UKHhr4HGIC0VzdZQtAE','5NGO30tJxFlKixkPSgXcFE','5K4W6rqBFWDnAN6FQUkS6x','5HlXA01kcjssYDT7EoqUJF','5fScAXreYFnuqwOgBsJgSd','5BvJzeQpmsdsFp4HGUYUEx','51Blml2LZPmy7TTiAg47vQ','4Z8W4fKeB5YxbusRsdQVPb','4YrKBkKSVeqDamzBPWVnSJ','4tX2TplrkIP4v05BNC903e','4STHEaNw4mPZ2tzheohgXB','4LEiUm1SRbFMgfqnQTwUbQ','4I2BJf80C0skQpp1sQmA0h','4gzpq5DPGxSnKTe4SA8HAU','4F84IBURUo98rz4r61KF70','4EVpmkEwrLYEg6jIsiPMIb','4dpARuHxo51G3z768sgnrY','40Yq4vzPs9VNUrIBG5Jr2i','3XHO7cRUPCLOr6jwp8vsx5','3qm84nBOXUEQ2vnTfUTTFC','3OsRAKCvk37zwYcnzRf5XF','3MM8mtgFzaEJsqbjZBSsHJ','3mIj9lX2MWuHmhNCA7LSCW','3kjuyTCjPG1WMFCiyc5IuB','3gd8FJtBJtkRxdfbTu19U2','3eqjTLE0HfPfh78zjh6TqT','3AA28KZvwAUcZuOKwyblJQ','2ye2Wgw4gimLv2eAKyk1NB','2ycnb8Er79LoH2AsR5ldjh','2y8Jo9CKhJvtfeKOsYzRdT','2uH0RyPcX7fnCcT90HFDQX','2qk9voo8llSGYcZ6xrBzKx','2f9ZiYA2ic1r1voObUimdd','2d0hyoQ5ynDBnkvAbJKORj','2cCUtGK9sDU2EoElnk0GNB','2BWfZGPtsjRlRp7JTDqI45','22bE4uQ6baNwSHPVcDxLCe','1w5Kfo2jwwIPruYS2UWh56','1u7kkVrr14iBvrpYnZILJR','1moxjboGR7GNWYIMWsRjgG','1lYT0A0LV5DUfxr6doRP3d','1GhPHrq36VKCY3ucVaZCfo','1dfeR4HaWDbWqFHLkxsg1d','1Cs0zKBU1kc0i8ypK3B9ai','14r9dR01KeBLFfylVSKCZQ','12Chz98pHFMPJEknJQMWvI','11wRdbnoYqRddKBrpHt4Ue','0yNLKJebCb8Aueb54LYya3','0oSGxfWSnnOXhD2fKuz2Gy','0L8ExT028jH3ddEcZwqJJ5','0epOFNiUfyON9EYx7Tpr6V','0dmPX6ovclgOy8WWJaFEUU','0C0XlULifJtAgn6ZNCW2eu','08GQAI4eElDnROBrJRGE0X','03r4iKL2g2442PT9n2UKsx','3nFkdlSjzX9mRTtwJOzDYB','2cGwlqi3k18jFpUyTrsR84','2DaxqgrOhkeH0fpeiQq2f4','4KWTAlx2RvbpseOGMEmROg','21UJ7PRWb3Etgsu99f8yo8','3bUwxJgNakzYKkqAVgZLlh','3wury2nd8idV4GecUg5xze','36E7oYfz3LLRto6l2WmDcD','4k1ELeJKT1ISyDv8JivPpB','2evydP72Z45DouM4uMGsIE','6PHIK3kjWggLtVygsOtpqS','55bGuHb50r5c0PeqqMeNBV','1OwarW4LEHnoep20ixRA0y','5r1bdqzhgRoHC3YcCV6N5a','6mdiAmATAx73kdxrNrnlao','0XNa1vTidXlvJ2gHSsRi4A','450iujbtN6XgiA9pv6fVZz','1km0R7wy712AzLkA1WjKET','4pejUc4iciQfgdX6OKulQn','4fSPtBgFPZzygkY6MehwQ7','6FQqZYVfTNQ1pCqfkwVFEa','3rIZMv9rysU7JkLzEaC5Jp','4fxp616ALtFWnXfwxnjLzW','34UhPkLbtFKRq3nmfFgejG','6iy8nrBbtL57i4eUttHTww','3WaJSfKnzc65VDgmj2zU8B','4UXJsSlnKd7ltsrHebV79Q','7x5rK9BClDQ8wmCkYAGsQp','0TJB3EE2efClsYIDQ8V2Jk','7Lf3LOZp3U3u2f6cWMd3AH','13saZpZnCDWOI9D4IJhp1f','0O98jlCaPzvsoei6U5jfEL','6liAMWkVf5LH7YR9yfFy1Y','7sjttK1WcZeyLPn3IsQ62L','0vW8z9pZMGCcRtGPGtyqiB','3CQIn7N5CuRDP8wEI7FiDA','58lV9VcRSjABbAbfWS6skp','0LbLWjaweRbO4FDKYlbfNt','3Z02hBLubJxuFJfhacLSDc']\n",
    "\n",
    "record = {}\n",
    "\n",
    "print 'there are ', len(artists), ' artists'"
   ]
  },
  {
   "cell_type": "markdown",
   "metadata": {},
   "source": [
    "Next, we begin working with those ingredients: first, we loop through each ID, and combine it with the other elements to form a full URL...\n",
    "\n",
    "Once formed, we use `urllib` to open it, and `json` to read the resulting JSON file:"
   ]
  },
  {
   "cell_type": "code",
   "execution_count": 5,
   "metadata": {
    "collapsed": true
   },
   "outputs": [
    {
     "name": "stdout",
     "output_type": "stream",
     "text": [
      "scraping https://api.spotify.com/v1/artists/7oPftvlwr6VrsViSDV7fJY?access_token=token\n"
     ]
    },
    {
     "ename": "IOError",
     "evalue": "('http error', 401, 'Unauthorized', <httplib.HTTPMessage instance at 0x1055c3680>)",
     "output_type": "error",
     "traceback": [
      "\u001b[0;31m---------------------------------------------------------------------------\u001b[0m",
      "\u001b[0;31mIOError\u001b[0m                                   Traceback (most recent call last)",
      "\u001b[0;32m<ipython-input-5-6b23f4ae483c>\u001b[0m in \u001b[0;36m<module>\u001b[0;34m()\u001b[0m\n\u001b[1;32m      3\u001b[0m     \u001b[0mfullurl\u001b[0m \u001b[0;34m=\u001b[0m \u001b[0mbaseurl\u001b[0m\u001b[0;34m+\u001b[0m\u001b[0martist\u001b[0m\u001b[0;34m+\u001b[0m\u001b[0;34m'?access_token='\u001b[0m\u001b[0;34m+\u001b[0m\u001b[0;34m'token'\u001b[0m\u001b[0;34m\u001b[0m\u001b[0m\n\u001b[1;32m      4\u001b[0m     \u001b[0;32mprint\u001b[0m \u001b[0;34m'scraping'\u001b[0m\u001b[0;34m,\u001b[0m \u001b[0mfullurl\u001b[0m\u001b[0;34m\u001b[0m\u001b[0m\n\u001b[0;32m----> 5\u001b[0;31m     \u001b[0mresponse\u001b[0m \u001b[0;34m=\u001b[0m \u001b[0murllib\u001b[0m\u001b[0;34m.\u001b[0m\u001b[0murlopen\u001b[0m\u001b[0;34m(\u001b[0m\u001b[0mfullurl\u001b[0m\u001b[0;34m)\u001b[0m\u001b[0;34m\u001b[0m\u001b[0m\n\u001b[0m\u001b[1;32m      6\u001b[0m     \u001b[0mdata\u001b[0m \u001b[0;34m=\u001b[0m \u001b[0mjson\u001b[0m\u001b[0;34m.\u001b[0m\u001b[0mloads\u001b[0m\u001b[0;34m(\u001b[0m\u001b[0mresponse\u001b[0m\u001b[0;34m.\u001b[0m\u001b[0mread\u001b[0m\u001b[0;34m(\u001b[0m\u001b[0;34m)\u001b[0m\u001b[0;34m)\u001b[0m\u001b[0;34m\u001b[0m\u001b[0m\n",
      "\u001b[0;32m/Users/paul/anaconda/lib/python2.7/urllib.pyc\u001b[0m in \u001b[0;36murlopen\u001b[0;34m(url, data, proxies, context)\u001b[0m\n\u001b[1;32m     85\u001b[0m         \u001b[0mopener\u001b[0m \u001b[0;34m=\u001b[0m \u001b[0m_urlopener\u001b[0m\u001b[0;34m\u001b[0m\u001b[0m\n\u001b[1;32m     86\u001b[0m     \u001b[0;32mif\u001b[0m \u001b[0mdata\u001b[0m \u001b[0;32mis\u001b[0m \u001b[0mNone\u001b[0m\u001b[0;34m:\u001b[0m\u001b[0;34m\u001b[0m\u001b[0m\n\u001b[0;32m---> 87\u001b[0;31m         \u001b[0;32mreturn\u001b[0m \u001b[0mopener\u001b[0m\u001b[0;34m.\u001b[0m\u001b[0mopen\u001b[0m\u001b[0;34m(\u001b[0m\u001b[0murl\u001b[0m\u001b[0;34m)\u001b[0m\u001b[0;34m\u001b[0m\u001b[0m\n\u001b[0m\u001b[1;32m     88\u001b[0m     \u001b[0;32melse\u001b[0m\u001b[0;34m:\u001b[0m\u001b[0;34m\u001b[0m\u001b[0m\n\u001b[1;32m     89\u001b[0m         \u001b[0;32mreturn\u001b[0m \u001b[0mopener\u001b[0m\u001b[0;34m.\u001b[0m\u001b[0mopen\u001b[0m\u001b[0;34m(\u001b[0m\u001b[0murl\u001b[0m\u001b[0;34m,\u001b[0m \u001b[0mdata\u001b[0m\u001b[0;34m)\u001b[0m\u001b[0;34m\u001b[0m\u001b[0m\n",
      "\u001b[0;32m/Users/paul/anaconda/lib/python2.7/urllib.pyc\u001b[0m in \u001b[0;36mopen\u001b[0;34m(self, fullurl, data)\u001b[0m\n\u001b[1;32m    211\u001b[0m         \u001b[0;32mtry\u001b[0m\u001b[0;34m:\u001b[0m\u001b[0;34m\u001b[0m\u001b[0m\n\u001b[1;32m    212\u001b[0m             \u001b[0;32mif\u001b[0m \u001b[0mdata\u001b[0m \u001b[0;32mis\u001b[0m \u001b[0mNone\u001b[0m\u001b[0;34m:\u001b[0m\u001b[0;34m\u001b[0m\u001b[0m\n\u001b[0;32m--> 213\u001b[0;31m                 \u001b[0;32mreturn\u001b[0m \u001b[0mgetattr\u001b[0m\u001b[0;34m(\u001b[0m\u001b[0mself\u001b[0m\u001b[0;34m,\u001b[0m \u001b[0mname\u001b[0m\u001b[0;34m)\u001b[0m\u001b[0;34m(\u001b[0m\u001b[0murl\u001b[0m\u001b[0;34m)\u001b[0m\u001b[0;34m\u001b[0m\u001b[0m\n\u001b[0m\u001b[1;32m    214\u001b[0m             \u001b[0;32melse\u001b[0m\u001b[0;34m:\u001b[0m\u001b[0;34m\u001b[0m\u001b[0m\n\u001b[1;32m    215\u001b[0m                 \u001b[0;32mreturn\u001b[0m \u001b[0mgetattr\u001b[0m\u001b[0;34m(\u001b[0m\u001b[0mself\u001b[0m\u001b[0;34m,\u001b[0m \u001b[0mname\u001b[0m\u001b[0;34m)\u001b[0m\u001b[0;34m(\u001b[0m\u001b[0murl\u001b[0m\u001b[0;34m,\u001b[0m \u001b[0mdata\u001b[0m\u001b[0;34m)\u001b[0m\u001b[0;34m\u001b[0m\u001b[0m\n",
      "\u001b[0;32m/Users/paul/anaconda/lib/python2.7/urllib.pyc\u001b[0m in \u001b[0;36mopen_https\u001b[0;34m(self, url, data)\u001b[0m\n\u001b[1;32m    455\u001b[0m             \u001b[0;32melse\u001b[0m\u001b[0;34m:\u001b[0m\u001b[0;34m\u001b[0m\u001b[0m\n\u001b[1;32m    456\u001b[0m                 \u001b[0;32mif\u001b[0m \u001b[0mdata\u001b[0m \u001b[0;32mis\u001b[0m \u001b[0mNone\u001b[0m\u001b[0;34m:\u001b[0m\u001b[0;34m\u001b[0m\u001b[0m\n\u001b[0;32m--> 457\u001b[0;31m                     \u001b[0;32mreturn\u001b[0m \u001b[0mself\u001b[0m\u001b[0;34m.\u001b[0m\u001b[0mhttp_error\u001b[0m\u001b[0;34m(\u001b[0m\u001b[0murl\u001b[0m\u001b[0;34m,\u001b[0m \u001b[0mfp\u001b[0m\u001b[0;34m,\u001b[0m \u001b[0merrcode\u001b[0m\u001b[0;34m,\u001b[0m \u001b[0merrmsg\u001b[0m\u001b[0;34m,\u001b[0m \u001b[0mheaders\u001b[0m\u001b[0;34m)\u001b[0m\u001b[0;34m\u001b[0m\u001b[0m\n\u001b[0m\u001b[1;32m    458\u001b[0m                 \u001b[0;32melse\u001b[0m\u001b[0;34m:\u001b[0m\u001b[0;34m\u001b[0m\u001b[0m\n\u001b[1;32m    459\u001b[0m                     return self.http_error(url, fp, errcode, errmsg, headers,\n",
      "\u001b[0;32m/Users/paul/anaconda/lib/python2.7/urllib.pyc\u001b[0m in \u001b[0;36mhttp_error\u001b[0;34m(self, url, fp, errcode, errmsg, headers, data)\u001b[0m\n\u001b[1;32m    375\u001b[0m             \u001b[0mmethod\u001b[0m \u001b[0;34m=\u001b[0m \u001b[0mgetattr\u001b[0m\u001b[0;34m(\u001b[0m\u001b[0mself\u001b[0m\u001b[0;34m,\u001b[0m \u001b[0mname\u001b[0m\u001b[0;34m)\u001b[0m\u001b[0;34m\u001b[0m\u001b[0m\n\u001b[1;32m    376\u001b[0m             \u001b[0;32mif\u001b[0m \u001b[0mdata\u001b[0m \u001b[0;32mis\u001b[0m \u001b[0mNone\u001b[0m\u001b[0;34m:\u001b[0m\u001b[0;34m\u001b[0m\u001b[0m\n\u001b[0;32m--> 377\u001b[0;31m                 \u001b[0mresult\u001b[0m \u001b[0;34m=\u001b[0m \u001b[0mmethod\u001b[0m\u001b[0;34m(\u001b[0m\u001b[0murl\u001b[0m\u001b[0;34m,\u001b[0m \u001b[0mfp\u001b[0m\u001b[0;34m,\u001b[0m \u001b[0merrcode\u001b[0m\u001b[0;34m,\u001b[0m \u001b[0merrmsg\u001b[0m\u001b[0;34m,\u001b[0m \u001b[0mheaders\u001b[0m\u001b[0;34m)\u001b[0m\u001b[0;34m\u001b[0m\u001b[0m\n\u001b[0m\u001b[1;32m    378\u001b[0m             \u001b[0;32melse\u001b[0m\u001b[0;34m:\u001b[0m\u001b[0;34m\u001b[0m\u001b[0m\n\u001b[1;32m    379\u001b[0m                 \u001b[0mresult\u001b[0m \u001b[0;34m=\u001b[0m \u001b[0mmethod\u001b[0m\u001b[0;34m(\u001b[0m\u001b[0murl\u001b[0m\u001b[0;34m,\u001b[0m \u001b[0mfp\u001b[0m\u001b[0;34m,\u001b[0m \u001b[0merrcode\u001b[0m\u001b[0;34m,\u001b[0m \u001b[0merrmsg\u001b[0m\u001b[0;34m,\u001b[0m \u001b[0mheaders\u001b[0m\u001b[0;34m,\u001b[0m \u001b[0mdata\u001b[0m\u001b[0;34m)\u001b[0m\u001b[0;34m\u001b[0m\u001b[0m\n",
      "\u001b[0;32m/Users/paul/anaconda/lib/python2.7/urllib.pyc\u001b[0m in \u001b[0;36mhttp_error_401\u001b[0;34m(self, url, fp, errcode, errmsg, headers, data)\u001b[0m\n\u001b[1;32m    699\u001b[0m         \u001b[0;32mif\u001b[0m \u001b[0mscheme\u001b[0m\u001b[0;34m.\u001b[0m\u001b[0mlower\u001b[0m\u001b[0;34m(\u001b[0m\u001b[0;34m)\u001b[0m \u001b[0;34m!=\u001b[0m \u001b[0;34m'basic'\u001b[0m\u001b[0;34m:\u001b[0m\u001b[0;34m\u001b[0m\u001b[0m\n\u001b[1;32m    700\u001b[0m             URLopener.http_error_default(self, url, fp,\n\u001b[0;32m--> 701\u001b[0;31m                                          errcode, errmsg, headers)\n\u001b[0m\u001b[1;32m    702\u001b[0m         \u001b[0mname\u001b[0m \u001b[0;34m=\u001b[0m \u001b[0;34m'retry_'\u001b[0m \u001b[0;34m+\u001b[0m \u001b[0mself\u001b[0m\u001b[0;34m.\u001b[0m\u001b[0mtype\u001b[0m \u001b[0;34m+\u001b[0m \u001b[0;34m'_basic_auth'\u001b[0m\u001b[0;34m\u001b[0m\u001b[0m\n\u001b[1;32m    703\u001b[0m         \u001b[0;32mif\u001b[0m \u001b[0mdata\u001b[0m \u001b[0;32mis\u001b[0m \u001b[0mNone\u001b[0m\u001b[0;34m:\u001b[0m\u001b[0;34m\u001b[0m\u001b[0m\n",
      "\u001b[0;32m/Users/paul/anaconda/lib/python2.7/urllib.pyc\u001b[0m in \u001b[0;36mhttp_error_default\u001b[0;34m(self, url, fp, errcode, errmsg, headers)\u001b[0m\n\u001b[1;32m    384\u001b[0m         \u001b[0;34m\"\"\"Default error handler: close the connection and raise IOError.\"\"\"\u001b[0m\u001b[0;34m\u001b[0m\u001b[0m\n\u001b[1;32m    385\u001b[0m         \u001b[0mfp\u001b[0m\u001b[0;34m.\u001b[0m\u001b[0mclose\u001b[0m\u001b[0;34m(\u001b[0m\u001b[0;34m)\u001b[0m\u001b[0;34m\u001b[0m\u001b[0m\n\u001b[0;32m--> 386\u001b[0;31m         \u001b[0;32mraise\u001b[0m \u001b[0mIOError\u001b[0m\u001b[0;34m,\u001b[0m \u001b[0;34m(\u001b[0m\u001b[0;34m'http error'\u001b[0m\u001b[0;34m,\u001b[0m \u001b[0merrcode\u001b[0m\u001b[0;34m,\u001b[0m \u001b[0merrmsg\u001b[0m\u001b[0;34m,\u001b[0m \u001b[0mheaders\u001b[0m\u001b[0;34m)\u001b[0m\u001b[0;34m\u001b[0m\u001b[0m\n\u001b[0m\u001b[1;32m    387\u001b[0m \u001b[0;34m\u001b[0m\u001b[0m\n\u001b[1;32m    388\u001b[0m     \u001b[0;32mif\u001b[0m \u001b[0m_have_ssl\u001b[0m\u001b[0;34m:\u001b[0m\u001b[0;34m\u001b[0m\u001b[0m\n",
      "\u001b[0;31mIOError\u001b[0m: ('http error', 401, 'Unauthorized', <httplib.HTTPMessage instance at 0x1055c3680>)"
     ]
    }
   ],
   "source": [
    "for artist in artists:\n",
    "    #Form a URL by combining different parts\n",
    "    fullurl = baseurl+artist+'?access_token='+'token'\n",
    "    print 'scraping', fullurl\n",
    "    response = urllib.urlopen(fullurl)\n",
    "    data = json.loads(response.read())"
   ]
  },
  {
   "cell_type": "markdown",
   "metadata": {},
   "source": [
    "The error above shows that we need a real token for this to work. I'm not sharing mine with you (it's secret!) So you'll have to replace it with your own first.\n",
    "\n",
    "For the rest, then you'll have to trust me."
   ]
  },
  {
   "cell_type": "code",
   "execution_count": null,
   "metadata": {
    "collapsed": true
   },
   "outputs": [],
   "source": []
  }
 ],
 "metadata": {
  "anaconda-cloud": {},
  "kernelspec": {
   "display_name": "Python [Root]",
   "language": "python",
   "name": "Python [Root]"
  },
  "language_info": {
   "codemirror_mode": {
    "name": "ipython",
    "version": 2
   },
   "file_extension": ".py",
   "mimetype": "text/x-python",
   "name": "python",
   "nbconvert_exporter": "python",
   "pygments_lexer": "ipython2",
   "version": "2.7.12"
  }
 },
 "nbformat": 4,
 "nbformat_minor": 0
}
